{
 "cells": [
  {
   "cell_type": "code",
   "execution_count": 34,
   "metadata": {
    "colab": {},
    "colab_type": "code",
    "id": "rib3yPwQCU2o",
    "scrolled": true
   },
   "outputs": [],
   "source": [
    "import sys, os, re, csv, codecs, numpy as np, pandas as pd\n",
    "\n",
    "from keras.preprocessing.text import Tokenizer\n",
    "from keras.preprocessing.sequence import pad_sequences\n",
    "from keras.layers import Dense, Input, LSTM, Embedding, Dropout, Activation\n",
    "from keras.layers import Bidirectional, GlobalMaxPool1D, Add\n",
    "from keras.models import Model\n",
    "from keras import initializers, regularizers, constraints, optimizers, layers\n",
    "\n"
   ]
  },
  {
   "cell_type": "code",
   "execution_count": 35,
   "metadata": {
    "colab": {},
    "colab_type": "code",
    "id": "WHMRB77SCdtq"
   },
   "outputs": [],
   "source": [
    "# Install the PyDrive wrapper & import libraries.\n",
    "# # This only needs to be done once per notebook.\n",
    "# !pip install -U -q PyDrive\n",
    "# from pydrive.auth import GoogleAuth\n",
    "# from pydrive.drive import GoogleDrive\n",
    "# from google.colab import auth\n",
    "# from oauth2client.client import GoogleCredentials"
   ]
  },
  {
   "cell_type": "code",
   "execution_count": 36,
   "metadata": {
    "colab": {
     "base_uri": "https://localhost:8080/",
     "height": 187
    },
    "colab_type": "code",
    "executionInfo": {
     "elapsed": 5175,
     "status": "ok",
     "timestamp": 1555988771788,
     "user": {
      "displayName": "rushabh shah",
      "photoUrl": "https://lh4.googleusercontent.com/-KhBrfxSP_rM/AAAAAAAAAAI/AAAAAAAAx50/h3Z2jXqw7gA/s64/photo.jpg",
      "userId": "06835127901235097825"
     },
     "user_tz": 300
    },
    "id": "uXOwCg_HChVR",
    "outputId": "e2422e33-c7ec-474b-d5a9-1ef2c4f2d015"
   },
   "outputs": [],
   "source": [
    "\n",
    "\n",
    "# # Authenticate and create the PyDrive client.\n",
    "# # This only needs to be done once per notebook.\n",
    "# auth.authenticate_user()\n",
    "# gauth = GoogleAuth()\n",
    "# gauth.credentials = GoogleCredentials.get_application_default()\n",
    "# drive = GoogleDrive(gauth)\n",
    "\n",
    "# # Download a file based on its file ID.\n",
    "# # https://drive.google.com/open?id=17-VqYMFwkPZdHI80MUt4hN0IeCCUd9X-\n",
    "# # A file ID looks like: laggVyWshwcyP6kEI-y_W3P8D26sz\n",
    "# file_id = '17-VqYMFwkPZdHI80MUt4hN0IeCCUd9X-'\n",
    "# downloaded = drive.CreateFile({'id': file_id})\n",
    "# print('Downloaded content \"{}\"'.format(downloaded.GetContentString()))"
   ]
  },
  {
   "cell_type": "code",
   "execution_count": 37,
   "metadata": {
    "colab": {
     "base_uri": "https://localhost:8080/",
     "height": 357
    },
    "colab_type": "code",
    "executionInfo": {
     "elapsed": 153361,
     "status": "ok",
     "timestamp": 1555987314413,
     "user": {
      "displayName": "rushabh shah",
      "photoUrl": "https://lh4.googleusercontent.com/-KhBrfxSP_rM/AAAAAAAAAAI/AAAAAAAAx50/h3Z2jXqw7gA/s64/photo.jpg",
      "userId": "06835127901235097825"
     },
     "user_tz": 300
    },
    "id": "uXTvjcGhDYaa",
    "outputId": "ff823893-1b13-4596-82d8-bb14aee53fc7"
   },
   "outputs": [],
   "source": [
    "# !wget http://nlp.stanford.edu/data/glove.6B.zip\n",
    "# !unzip glove*.zip"
   ]
  },
  {
   "cell_type": "code",
   "execution_count": null,
   "metadata": {
    "colab": {
     "base_uri": "https://localhost:8080/",
     "height": 68
    },
    "colab_type": "code",
    "executionInfo": {
     "elapsed": 6057,
     "status": "ok",
     "timestamp": 1555988805171,
     "user": {
      "displayName": "rushabh shah",
      "photoUrl": "https://lh4.googleusercontent.com/-KhBrfxSP_rM/AAAAAAAAAAI/AAAAAAAAx50/h3Z2jXqw7gA/s64/photo.jpg",
      "userId": "06835127901235097825"
     },
     "user_tz": 300
    },
    "id": "JFybkSe2EAbF",
    "outputId": "5f88577b-4d91-443e-9158-f45f540e98f0"
   },
   "outputs": [],
   "source": []
  },
  {
   "cell_type": "code",
   "execution_count": 38,
   "metadata": {
    "colab": {},
    "colab_type": "code",
    "id": "4u8FQpdyCU23"
   },
   "outputs": [],
   "source": [
    "\n",
    "path = 'input/'\n",
    "\n",
    "EMBEDDING_FILE=f'{path}glove.6B.50d.txt'\n",
    "TRAIN_DATA_FILE=f'{path}train.csv'\n",
    "# TEST_DATA_FILE=f'{path}test.csv'"
   ]
  },
  {
   "cell_type": "code",
   "execution_count": 39,
   "metadata": {
    "colab": {},
    "colab_type": "code",
    "id": "Jus8zlvmCU29"
   },
   "outputs": [],
   "source": [
    "\n",
    "\n",
    "# configuring basic parameters\n",
    "\n",
    "embed_size = 50 # how big is each word vector\n",
    "max_features = 20000 # how many unique words to use (i.e num rows in embedding vector)\n",
    "maxlen = 100 # max number of words in a comment to use\n"
   ]
  },
  {
   "cell_type": "code",
   "execution_count": 40,
   "metadata": {
    "colab": {},
    "colab_type": "code",
    "id": "iHos-QbkCU3C"
   },
   "outputs": [],
   "source": [
    "\n",
    "# Read in our data and replace missing values:\n",
    "\n",
    "train = pd.read_csv(TRAIN_DATA_FILE)\n",
    "# test = pd.read_csv(TEST_DATA_FILE)\n",
    "\n",
    "list_sentences_train = train[\"comment_text\"].fillna(\"_na_\").values\n",
    "list_classes = [\"toxic\", \"severe_toxic\", \"obscene\", \"threat\", \"insult\", \"identity_hate\"]\n",
    "y = train[list_classes].values\n",
    "# list_sentences_test = test[\"comment_text\"].fillna(\"_na_\").values\n",
    "\n"
   ]
  },
  {
   "cell_type": "code",
   "execution_count": 41,
   "metadata": {
    "colab": {},
    "colab_type": "code",
    "id": "OWoSdZrJCU3I"
   },
   "outputs": [],
   "source": [
    "# Standard keras preprocessing, to turn each comment into a list of word indexes of equal length (with truncation or padding as needed)\n",
    "\n",
    "tokenizer = Tokenizer(num_words=max_features)\n",
    "tokenizer.fit_on_texts(list(list_sentences_train))\n"
   ]
  },
  {
   "cell_type": "code",
   "execution_count": 42,
   "metadata": {},
   "outputs": [],
   "source": [
    "list_tokenized_train = tokenizer.texts_to_sequences(list_sentences_train)\n",
    "# list_tokenized_test = tokenizer.texts_to_sequences(list_sentences_test)\n",
    "X_t = pad_sequences(list_tokenized_train, maxlen=maxlen)\n",
    "# X_te = pad_sequences(list_tokenized_test, maxlen=maxlen)"
   ]
  },
  {
   "cell_type": "code",
   "execution_count": 44,
   "metadata": {},
   "outputs": [],
   "source": [
    "# Read the glove word vectors (space delimited strings) into a dictionary from word->vector.\n",
    "\n",
    "def get_coefs(word,*arr): return word, np.asarray(arr, dtype='float32')\n",
    "\n",
    "\n",
    "\n"
   ]
  },
  {
   "cell_type": "code",
   "execution_count": 47,
   "metadata": {
    "colab": {},
    "colab_type": "code",
    "id": "oujOnQ7WCU3N"
   },
   "outputs": [],
   "source": [
    "\n",
    "embeddings_index = dict(get_coefs(*o.strip().split()) for o in open(EMBEDDING_FILE, encoding=\"utf8\"))"
   ]
  },
  {
   "cell_type": "code",
   "execution_count": null,
   "metadata": {
    "colab": {},
    "colab_type": "code",
    "id": "Ye_Ke1m3CU3T"
   },
   "outputs": [],
   "source": []
  },
  {
   "cell_type": "code",
   "execution_count": 52,
   "metadata": {
    "colab": {
     "base_uri": "https://localhost:8080/",
     "height": 71
    },
    "colab_type": "code",
    "executionInfo": {
     "elapsed": 27304,
     "status": "ok",
     "timestamp": 1555991613936,
     "user": {
      "displayName": "rushabh shah",
      "photoUrl": "https://lh4.googleusercontent.com/-KhBrfxSP_rM/AAAAAAAAAAI/AAAAAAAAx50/h3Z2jXqw7gA/s64/photo.jpg",
      "userId": "06835127901235097825"
     },
     "user_tz": 300
    },
    "id": "_Vfjv0GwCU3Y",
    "outputId": "3e2b8230-0b6a-496d-cebc-c907ba81a8e1"
   },
   "outputs": [
    {
     "name": "stderr",
     "output_type": "stream",
     "text": [
      "c:\\users\\rms170003\\appdata\\local\\programs\\python\\python36\\lib\\site-packages\\ipykernel_launcher.py:3: FutureWarning: arrays to stack must be passed as a \"sequence\" type such as list or tuple. Support for non-sequence iterables such as generators is deprecated as of NumPy 1.16 and will raise an error in the future.\n",
      "  This is separate from the ipykernel package so we can avoid doing imports until\n"
     ]
    }
   ],
   "source": [
    "# Use these vectors to create our embedding matrix, with random initialization for words that aren't in GloVe. We'll use the same mean and stdev of embeddings the GloVe has when generating the random init\n",
    "\n",
    "all_embs = np.stack(embeddings_index.values())\n",
    "emb_mean,emb_std = all_embs.mean(), all_embs.std()\n",
    "emb_mean,emb_std\n",
    "\n",
    "word_index = tokenizer.word_index\n",
    "nb_words = min(max_features, len(word_index))\n",
    "embedding_matrix = np.random.normal(emb_mean, emb_std, (nb_words, embed_size))\n",
    "for word, i in word_index.items():\n",
    "    if i >= max_features: continue\n",
    "    embedding_vector = embeddings_index.get(word)\n",
    "    if embedding_vector is not None: embedding_matrix[i] = embedding_vector\n",
    "\n"
   ]
  },
  {
   "cell_type": "code",
   "execution_count": 53,
   "metadata": {
    "colab": {},
    "colab_type": "code",
    "id": "yvdCo85wCU3g"
   },
   "outputs": [
    {
     "name": "stdout",
     "output_type": "stream",
     "text": [
      "WARNING:tensorflow:From c:\\users\\rms170003\\appdata\\local\\programs\\python\\python36\\lib\\site-packages\\tensorflow\\python\\framework\\op_def_library.py:263: colocate_with (from tensorflow.python.framework.ops) is deprecated and will be removed in a future version.\n",
      "Instructions for updating:\n",
      "Colocations handled automatically by placer.\n",
      "WARNING:tensorflow:From c:\\users\\rms170003\\appdata\\local\\programs\\python\\python36\\lib\\site-packages\\keras\\backend\\tensorflow_backend.py:3445: calling dropout (from tensorflow.python.ops.nn_ops) with keep_prob is deprecated and will be removed in a future version.\n",
      "Instructions for updating:\n",
      "Please use `rate` instead of `keep_prob`. Rate should be set to `rate = 1 - keep_prob`.\n"
     ]
    }
   ],
   "source": [
    "# Simple bidirectional LSTM with two fully connected layers. We add some dropout to the LSTM since even 2 epochs is enough to overfit.\n",
    "\n",
    "inp = Input(shape=(maxlen,))\n",
    "x = Embedding(max_features, embed_size, weights=[embedding_matrix])(inp)\n",
    "# x = Bidirectional(LSTM(50, return_sequences=True, dropout=0.1, recurrent_dropout=0.1))(x)\n",
    "x_1 = LSTM(50, return_sequences=True, dropout=0.3, recurrent_dropout=0.2)(x)\n",
    "x_res = GlobalMaxPool1D()(x_1)\n",
    "x_res = Dense(50, activation=\"relu\")(x_res)\n",
    "x_res = Dropout(0.2)(x_res)\n",
    "\n",
    "\n",
    "\n",
    "x = LSTM(50, return_sequences=True, dropout=0.3, recurrent_dropout=0.2)(x_1)\n",
    "\n",
    "x = LSTM(50, return_sequences=True, dropout=0.3, recurrent_dropout=0.2)(x)\n",
    "\n",
    "x = GlobalMaxPool1D()(x)\n",
    "x = Dense(50, activation=\"relu\")(x)\n",
    "x = Dropout(0.2)(x)\n",
    "\n",
    "x = Add()([x_res,x])\n",
    "x = Dropout(0.2)(x)\n",
    "\n",
    "x = Dense(6, activation=\"sigmoid\")(x)\n",
    "model = Model(inputs=inp, outputs=x)\n",
    "model.compile(loss='binary_crossentropy', optimizer='adam', metrics=['accuracy'])\n",
    "\n"
   ]
  },
  {
   "cell_type": "code",
   "execution_count": 54,
   "metadata": {
    "colab": {
     "base_uri": "https://localhost:8080/",
     "height": 530
    },
    "colab_type": "code",
    "executionInfo": {
     "elapsed": 1263242,
     "status": "error",
     "timestamp": 1555993080651,
     "user": {
      "displayName": "rushabh shah",
      "photoUrl": "https://lh4.googleusercontent.com/-KhBrfxSP_rM/AAAAAAAAAAI/AAAAAAAAx50/h3Z2jXqw7gA/s64/photo.jpg",
      "userId": "06835127901235097825"
     },
     "user_tz": 300
    },
    "id": "-CLC_haXCU3n",
    "outputId": "8f3ef368-1baa-4db2-bfcf-e0a0c616e062"
   },
   "outputs": [
    {
     "name": "stdout",
     "output_type": "stream",
     "text": [
      "WARNING:tensorflow:From c:\\users\\rms170003\\appdata\\local\\programs\\python\\python36\\lib\\site-packages\\tensorflow\\python\\ops\\math_ops.py:3066: to_int32 (from tensorflow.python.ops.math_ops) is deprecated and will be removed in a future version.\n",
      "Instructions for updating:\n",
      "Use tf.cast instead.\n",
      "WARNING:tensorflow:From c:\\users\\rms170003\\appdata\\local\\programs\\python\\python36\\lib\\site-packages\\tensorflow\\python\\ops\\math_grad.py:102: div (from tensorflow.python.ops.math_ops) is deprecated and will be removed in a future version.\n",
      "Instructions for updating:\n",
      "Deprecated in favor of operator or tf.math.divide.\n",
      "Train on 127656 samples, validate on 31915 samples\n",
      "Epoch 1/10\n",
      "127656/127656 [==============================] - 711s 6ms/step - loss: 0.0715 - acc: 0.9763 - val_loss: 0.0513 - val_acc: 0.9813\n",
      "Epoch 2/10\n",
      "127656/127656 [==============================] - 697s 5ms/step - loss: 0.0508 - acc: 0.9814 - val_loss: 0.0496 - val_acc: 0.9818\n",
      "Epoch 3/10\n",
      "127656/127656 [==============================] - 695s 5ms/step - loss: 0.0468 - acc: 0.9824 - val_loss: 0.0491 - val_acc: 0.9819\n",
      "Epoch 4/10\n",
      "127656/127656 [==============================] - 698s 5ms/step - loss: 0.0440 - acc: 0.9832 - val_loss: 0.0475 - val_acc: 0.9820\n",
      "Epoch 5/10\n",
      "127656/127656 [==============================] - 695s 5ms/step - loss: 0.0420 - acc: 0.9836 - val_loss: 0.0495 - val_acc: 0.9826\n",
      "Epoch 6/10\n",
      "127656/127656 [==============================] - 695s 5ms/step - loss: 0.0401 - acc: 0.9843 - val_loss: 0.0495 - val_acc: 0.9825\n",
      "Epoch 7/10\n",
      "127656/127656 [==============================] - 698s 5ms/step - loss: 0.0382 - acc: 0.9848 - val_loss: 0.0515 - val_acc: 0.9824\n",
      "Epoch 8/10\n",
      "127656/127656 [==============================] - 694s 5ms/step - loss: 0.0372 - acc: 0.9851 - val_loss: 0.0533 - val_acc: 0.9826\n",
      "Epoch 9/10\n",
      "127656/127656 [==============================] - 695s 5ms/step - loss: 0.0357 - acc: 0.9855 - val_loss: 0.0536 - val_acc: 0.9826\n",
      "Epoch 10/10\n",
      "127656/127656 [==============================] - 694s 5ms/step - loss: 0.0347 - acc: 0.9858 - val_loss: 0.0550 - val_acc: 0.9822\n"
     ]
    }
   ],
   "source": [
    "# Now we're ready to fit out model! Use validation_split when not submitting.\n",
    "\n",
    "model.fit(X_t, y, \n",
    "          batch_size=32, \n",
    "          epochs=10, \n",
    "          validation_split=0.2);\n",
    "\n"
   ]
  },
  {
   "cell_type": "code",
   "execution_count": 55,
   "metadata": {
    "colab": {},
    "colab_type": "code",
    "id": "7zRCmJ8DCU3s"
   },
   "outputs": [],
   "source": [
    "# And finally, get predictions for the test set and prepare a submission CSV:\n",
    "\n",
    "# y_test = model.predict([X_te], batch_size=1024, verbose=1)\n",
    "# sample_submission = pd.read_csv(f'{path}sample_submission.csv')\n",
    "# sample_submission[list_classes] = y_test\n",
    "# sample_submission.to_csv('submission.csv', index=False)\n"
   ]
  },
  {
   "cell_type": "code",
   "execution_count": 56,
   "metadata": {
    "colab": {},
    "colab_type": "code",
    "id": "_u1aLyfUCU3w"
   },
   "outputs": [
    {
     "name": "stdout",
     "output_type": "stream",
     "text": [
      "__________________________________________________________________________________________________\n",
      "Layer (type)                    Output Shape         Param #     Connected to                     \n",
      "==================================================================================================\n",
      "input_1 (InputLayer)            (None, 100)          0                                            \n",
      "__________________________________________________________________________________________________\n",
      "embedding_1 (Embedding)         (None, 100, 50)      1000000     input_1[0][0]                    \n",
      "__________________________________________________________________________________________________\n",
      "lstm_1 (LSTM)                   (None, 100, 50)      20200       embedding_1[0][0]                \n",
      "__________________________________________________________________________________________________\n",
      "lstm_2 (LSTM)                   (None, 100, 50)      20200       lstm_1[0][0]                     \n",
      "__________________________________________________________________________________________________\n",
      "lstm_3 (LSTM)                   (None, 100, 50)      20200       lstm_2[0][0]                     \n",
      "__________________________________________________________________________________________________\n",
      "global_max_pooling1d_1 (GlobalM (None, 50)           0           lstm_1[0][0]                     \n",
      "__________________________________________________________________________________________________\n",
      "global_max_pooling1d_2 (GlobalM (None, 50)           0           lstm_3[0][0]                     \n",
      "__________________________________________________________________________________________________\n",
      "dense_1 (Dense)                 (None, 50)           2550        global_max_pooling1d_1[0][0]     \n",
      "__________________________________________________________________________________________________\n",
      "dense_2 (Dense)                 (None, 50)           2550        global_max_pooling1d_2[0][0]     \n",
      "__________________________________________________________________________________________________\n",
      "dropout_1 (Dropout)             (None, 50)           0           dense_1[0][0]                    \n",
      "__________________________________________________________________________________________________\n",
      "dropout_2 (Dropout)             (None, 50)           0           dense_2[0][0]                    \n",
      "__________________________________________________________________________________________________\n",
      "add_1 (Add)                     (None, 50)           0           dropout_1[0][0]                  \n",
      "                                                                 dropout_2[0][0]                  \n",
      "__________________________________________________________________________________________________\n",
      "dropout_3 (Dropout)             (None, 50)           0           add_1[0][0]                      \n",
      "__________________________________________________________________________________________________\n",
      "dense_3 (Dense)                 (None, 6)            306         dropout_3[0][0]                  \n",
      "==================================================================================================\n",
      "Total params: 1,066,006\n",
      "Trainable params: 1,066,006\n",
      "Non-trainable params: 0\n",
      "__________________________________________________________________________________________________\n"
     ]
    }
   ],
   "source": [
    "model.summary()"
   ]
  },
  {
   "cell_type": "code",
   "execution_count": 57,
   "metadata": {
    "colab": {},
    "colab_type": "code",
    "id": "yrfspZeiCU3z"
   },
   "outputs": [
    {
     "data": {
      "text/plain": [
       "dict_keys(['val_loss', 'val_acc', 'loss', 'acc'])"
      ]
     },
     "execution_count": 57,
     "metadata": {},
     "output_type": "execute_result"
    }
   ],
   "source": [
    "model.history.history.keys()"
   ]
  },
  {
   "cell_type": "code",
   "execution_count": 62,
   "metadata": {
    "colab": {},
    "colab_type": "code",
    "id": "cvYZixT8CU34"
   },
   "outputs": [
    {
     "data": {
      "image/png": "[encoded data removed]",
      "text/plain": [
       "<Figure size 432x288 with 1 Axes>"
      ]
     },
     "metadata": {
      "needs_background": "light"
     },
     "output_type": "display_data"
    }
   ],
   "source": [
    "import matplotlib.pyplot as plt\n",
    "A = range(1,len(model.history.history['acc'])+1)\n",
    "B = [ round(i,5) for i in model.history.history['acc']]\n",
    "C = [ round(i,5) for i in model.history.history['val_acc']]\n",
    "\n",
    "plt.plot(A,B,'--bo')\n",
    "plt.plot(A,C,'--ro')\n",
    "plt.title('model accuracy')\n",
    "plt.ylabel('accuracy')\n",
    "plt.xlabel('epoch')\n",
    "# for xy in zip(A, B):                                       # <--\n",
    "#     plt.annotate('TRN(%s, %s)' % xy, xy=xy, textcoords='data') # <--\n",
    "# for xy in zip(A, C):                                       # <--\n",
    "#     plt.annotate('TST(%s, %s)' % xy, xy=xy, textcoords='data') # <--\n",
    "\n",
    "plt.legend(['train', 'test'], loc='upper left')\n",
    "plt.show()"
   ]
  },
  {
   "cell_type": "code",
   "execution_count": 59,
   "metadata": {
    "colab": {},
    "colab_type": "code",
    "id": "4m27BGhSCU39"
   },
   "outputs": [
    {
     "data": {
      "image/png": "[encoded data removed]",
      "text/plain": [
       "<Figure size 432x288 with 1 Axes>"
      ]
     },
     "metadata": {
      "needs_background": "light"
     },
     "output_type": "display_data"
    }
   ],
   "source": [
    "A = range(1,len(model.history.history['loss'])+1)\n",
    "B = model.history.history['loss']\n",
    "C = model.history.history['val_loss']\n",
    "plt.plot(A,B,'--bo')\n",
    "plt.plot(A,C,'--ro')\n",
    "plt.title('model loss')\n",
    "plt.ylabel('loss')\n",
    "plt.xlabel('epoch')\n",
    "\n",
    "plt.legend(['train', 'test'], loc='upper left')\n",
    "plt.show()"
   ]
  },
  {
   "cell_type": "code",
   "execution_count": 60,
   "metadata": {
    "colab": {},
    "colab_type": "code",
    "id": "sEOv4kMhCU4D"
   },
   "outputs": [
    {
     "name": "stdout",
     "output_type": "stream",
     "text": [
      "Saved model to disk\n"
     ]
    }
   ],
   "source": [
    "from keras.models import model_from_json\n",
    "model_json = model.to_json()\n",
    "with open(\"3LSTMRes_model.json\", \"w\") as json_file:\n",
    "    json_file.write(model_json)\n",
    "# serialize weights to HDF5\n",
    "model.save_weights(\"3LSTMRes_model.h5\")\n",
    "print(\"Saved model to disk\")"
   ]
  },
  {
   "cell_type": "code",
   "execution_count": 63,
   "metadata": {
    "colab": {},
    "colab_type": "code",
    "id": "sY_JjUlOWEaV"
   },
   "outputs": [],
   "source": [
    "# from google.colab import files\n",
    "\n",
    "# files.download('3LSTMRes_model.json')\n",
    "# files.download('3LSTMRes_model.h5')"
   ]
  },
  {
   "cell_type": "code",
   "execution_count": null,
   "metadata": {
    "colab": {},
    "colab_type": "code",
    "id": "RNuSYt50CU4H"
   },
   "outputs": [],
   "source": [
    "def sample_test(S1):\n",
    "    v=tokenizer.texts_to_sequences([S1])\n",
    "    v=pad_sequences(v,maxlen=maxlen)\n",
    "    y=list(model.predict([v], batch_size=1024, verbose=1))\n",
    "    for i in range(6):\n",
    "        print(y[0][i], list_classes[i])"
   ]
  },
  {
   "cell_type": "code",
   "execution_count": 0,
   "metadata": {
    "colab": {},
    "colab_type": "code",
    "id": "u2jD3YVECU4M"
   },
   "outputs": [],
   "source": [
    "S1 = input(\"Sentence: \")\n",
    "sample_test(S1)"
   ]
  },
  {
   "cell_type": "code",
   "execution_count": 0,
   "metadata": {
    "colab": {},
    "colab_type": "code",
    "id": "zLJ_pckMCU4i"
   },
   "outputs": [],
   "source": [
    "S1 = input(\"Sentence: \")\n",
    "sample_test(S1)\n"
   ]
  },
  {
   "cell_type": "code",
   "execution_count": 0,
   "metadata": {
    "colab": {},
    "colab_type": "code",
    "id": "frepiil2CU4y"
   },
   "outputs": [],
   "source": [
    "S1 = input(\"Sentence: \")\n",
    "sample_test(S1)\n"
   ]
  },
  {
   "cell_type": "code",
   "execution_count": 0,
   "metadata": {
    "colab": {},
    "colab_type": "code",
    "id": "kCL_Q-nwCU4-"
   },
   "outputs": [],
   "source": [
    "S1 = input(\"Sentence: \")\n",
    "sample_test(S1)\n"
   ]
  },
  {
   "cell_type": "code",
   "execution_count": 0,
   "metadata": {
    "colab": {},
    "colab_type": "code",
    "id": "N_vV1-yxCU5M"
   },
   "outputs": [],
   "source": [
    "S1 = input(\"Sentence: \")\n",
    "sample_test(S1)"
   ]
  },
  {
   "cell_type": "code",
   "execution_count": 0,
   "metadata": {
    "colab": {},
    "colab_type": "code",
    "id": "VjSW1ZuJCU5T"
   },
   "outputs": [],
   "source": [
    "S1 = input(\"Sentence: \")\n",
    "sample_test(S1)"
   ]
  },
  {
   "cell_type": "code",
   "execution_count": 0,
   "metadata": {
    "colab": {},
    "colab_type": "code",
    "id": "6TTtaygNCU5Y"
   },
   "outputs": [],
   "source": []
  }
 ],
 "metadata": {
  "accelerator": "GPU",
  "colab": {
   "name": "3LSTM_withRes.ipynb",
   "provenance": [],
   "version": "0.3.2"
  },
  "kernelspec": {
   "display_name": "Python 3",
   "language": "python",
   "name": "python3"
  },
  "language_info": {
   "codemirror_mode": {
    "name": "ipython",
    "version": 3
   },
   "file_extension": ".py",
   "mimetype": "text/x-python",
   "name": "python",
   "nbconvert_exporter": "python",
   "pygments_lexer": "ipython3",
   "version": "3.7.1"
  }
 },
 "nbformat": 4,
 "nbformat_minor": 1
}
